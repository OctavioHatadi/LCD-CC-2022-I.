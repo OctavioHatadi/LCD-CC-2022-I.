{
  "nbformat": 4,
  "nbformat_minor": 0,
  "metadata": {
    "colab": {
      "name": "Comunicación entre procesos.ipynb",
      "provenance": [],
      "collapsed_sections": []
    },
    "kernelspec": {
      "name": "python3",
      "display_name": "Python 3"
    },
    "language_info": {
      "name": "python"
    }
  },
  "cells": [
    {
      "cell_type": "markdown",
      "metadata": {
        "id": "6YGukhyamber"
      },
      "source": [
        "# Comunicación entre procesos "
      ]
    },
    {
      "cell_type": "markdown",
      "metadata": {
        "id": "8QlT61SXmYes"
      },
      "source": [
        "\n",
        "##QUEUES\n",
        "\n",
        "La principal froma de comunicación entre porcesos se lleva a cabo por medio de tuberías **pipe** y colas **queue**. Específicamente, brindan opciones de transmisión de mensajes para facilitar la comunicación entre otros procesos:\n",
        "\n",
        "Veremos que las colas, específicamente la clase Queue del módulo **multiprocessing**. La implementación de la clase Queue es segura para subprocesos y procesos. \n",
        "\n",
        "Se prefiere el uso de una **cola de mensajes** para la comunicación entre otros procesos. En lugar de compartir recursos ya que si ciertos procesos manejan mal la memoria y la corrompen, habría nuemrosos elementos indeseables y consecuencias impredicibles. Sin embargo, si un proceso no puede manejar su mensaje correctamente, otros elementos de la cola permanecerán intactos. \n",
        "\n",
        "Para emjorar el objeto **Queue** necesitamos usar dos métodos principales:\n",
        "\n",
        "- get() regresa el siguiente etem de la cola\n",
        "\n",
        "- put() agrega un item a la cola "
      ]
    },
    {
      "cell_type": "code",
      "metadata": {
        "colab": {
          "base_uri": "https://localhost:8080/"
        },
        "id": "ioKcM-C4oT-4",
        "outputId": "09a4c687-b0b3-4488-97b8-7e25f6654995"
      },
      "source": [
        "from multiprocessing import Process, Queue\n",
        "\n",
        "def worker (num, q):\n",
        "  print('Se pone en la cola: ', num*num)\n",
        "  q.put(num*num)\n",
        "\n",
        "def sum(num1,num2 , q):\n",
        "  print('Se pone en la cola: ', num1+ num2)\n",
        "  q.put(num1+num2)\n",
        "\n",
        "def div(num1,num2 , q):\n",
        "  print('Se pone en la cola: ', num1**num2)\n",
        "  q.put(num1**num2)\n",
        "\n",
        "\n",
        "if __name__ == '__main__': \n",
        "  my_queue = Queue()\n",
        "  p1= Process(target=worker, args=(5, my_queue))\n",
        "  p2= Process(target=sum, args=(6,3, my_queue))\n",
        "  p3= Process(target=div, args=(7,3, my_queue))\n",
        "  \n",
        "  \n",
        "  p1.start()\n",
        "  p2.start()\n",
        "  p3.start()\n",
        "  p1.join()\n",
        "  p2.join()\n",
        "  p3.join()\n",
        "  \n",
        "  print('Se lee de la cola: ', my_queue.get())\n",
        "  print('Se lee de la cola: ', my_queue.get())\n",
        "  print('Se lee de la cola: ', my_queue.get())\n",
        "  \n",
        "  "
      ],
      "execution_count": null,
      "outputs": [
        {
          "output_type": "stream",
          "name": "stdout",
          "text": [
            "Se pone en la cola:  25\n",
            "Se pone en la cola:  9\n",
            "Se pone en la cola:  343\n",
            "Se lee de la cola:  25\n",
            "Se lee de la cola:  9\n",
            "Se lee de la cola:  343\n"
          ]
        }
      ]
    },
    {
      "cell_type": "code",
      "metadata": {
        "id": "6ufkQ79TpRoy",
        "colab": {
          "base_uri": "https://localhost:8080/"
        },
        "outputId": "2380776c-0e61-4351-e96c-c23fe3b1e8c9"
      },
      "source": [
        "import multiprocessing as mp\n",
        "import time\n",
        "\n",
        "def calc_cuad(numeros, result):\n",
        "    #global result\n",
        "    #result = []\n",
        "    for idx, n in enumerate(numeros):\n",
        "        result[idx]= n*n\n",
        "        #result.append(n*n)       #corregir el llenado de result\n",
        "    print(\"Resultado del proceso:\", result[:])    \n",
        "\n",
        "nums = range(10)\n",
        "\n",
        "t = time.time()\n",
        "result= mp.Array('i', 10) #Vías de comunicación  UN arreglo\n",
        "#val = mp.Value('d', 0.0) # Valor de tipo double\n",
        "p1 = mp.Process(target=calc_cuad, args=(nums, result)) #Se envían una variable compartida\n",
        "\n",
        "p1.start()\n",
        "p1.join()\n",
        "\n",
        "#print(\"Resultado fuera del proceso:\", val.value) #Si puede ver value\n",
        "\n",
        "print(\"Resultado fuera del proceso:\", result[:])   # ¿puedo ver result aquí?\n",
        "\n",
        "print(\"Tiempo de ejecución: \", time.time()-t)\n",
        "print(\"Finaliza ejecución\")"
      ],
      "execution_count": null,
      "outputs": [
        {
          "output_type": "stream",
          "name": "stdout",
          "text": [
            "Resultado del proceso: [0, 1, 4, 9, 16, 25, 36, 49, 64, 81]\n",
            "Resultado fuera del proceso: [0, 1, 4, 9, 16, 25, 36, 49, 64, 81]\n",
            "Tiempo de ejecución:  0.015820980072021484\n",
            "Finaliza ejecución\n"
          ]
        }
      ]
    },
    {
      "cell_type": "code",
      "metadata": {
        "colab": {
          "base_uri": "https://localhost:8080/"
        },
        "id": "g82EEjX_6ryX",
        "outputId": "1aa21cb3-da02-436a-9524-ae6fdfb61339"
      },
      "source": [
        "import multiprocessing as mp\n",
        "import time\n",
        "\n",
        "def calc_cuad(numeros, result):\n",
        "    for idx, n in enumerate(numeros):\n",
        "        result[idx] = n * n #¿esto funciona si ya vimos que no?\n",
        "        \n",
        "    print(\"Resultado del proceso:\", result[:])    \n",
        "\n",
        "nums = range(10)\n",
        "\n",
        "t = time.time()\n",
        "result = mp.Array('i', 10)\n",
        "p1 = mp.Process(target=calc_cuad, args=(nums,result))\n",
        "\n",
        "p1.start()\n",
        "p1.join()\n",
        "\n",
        "print(\"Resultado fuera del proceso:\", result[:]) # ¿vamos a poder ver el contenido de result?\n",
        "\n",
        "print(\"Tiempo de ejecución: \", time.time()-t)\n",
        "print(\"Finaliza ejecución\")"
      ],
      "execution_count": null,
      "outputs": [
        {
          "output_type": "stream",
          "name": "stdout",
          "text": [
            "Resultado del proceso: [0, 1, 4, 9, 16, 25, 36, 49, 64, 81]\n",
            "Resultado fuera del proceso: [0, 1, 4, 9, 16, 25, 36, 49, 64, 81]\n",
            "Tiempo de ejecución:  0.021835803985595703\n",
            "Finaliza ejecución\n"
          ]
        }
      ]
    },
    {
      "cell_type": "markdown",
      "metadata": {
        "id": "L1NXX7b58d1v"
      },
      "source": [
        "##Pipes:\n",
        "\n",
        "Los pipes o tuberías representan una forma de pasar la información."
      ]
    },
    {
      "cell_type": "code",
      "metadata": {
        "colab": {
          "base_uri": "https://localhost:8080/"
        },
        "id": "0uUaVx_68dRt",
        "outputId": "9e79f62a-c2fa-4d85-f70d-1648c40989a3"
      },
      "source": [
        "from multiprocessing import Process, Pipe\n",
        "\n",
        "def f(conn):\n",
        "  conn.send(['hellow world'])\n",
        "  conn.close()\n",
        "\n",
        "\n",
        "if __name__ == '__main__':\n",
        "  parent_conn, child_conn =Pipe()\n",
        "  p = Process(target= f, args=(child_conn,))\n",
        "  p.start()\n",
        "  #print(parent_conn.recv())\n",
        "  p.join()\n",
        "print(parent_conn.recv())\n"
      ],
      "execution_count": null,
      "outputs": [
        {
          "output_type": "stream",
          "name": "stdout",
          "text": [
            "['hellow world']\n"
          ]
        }
      ]
    }
  ]
}