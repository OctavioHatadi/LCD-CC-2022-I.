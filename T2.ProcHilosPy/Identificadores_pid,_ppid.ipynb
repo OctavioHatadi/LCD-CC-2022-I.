{
  "nbformat": 4,
  "nbformat_minor": 0,
  "metadata": {
    "colab": {
      "name": "Identificadores pid, ppid.ipynb",
      "provenance": [],
      "collapsed_sections": []
    },
    "kernelspec": {
      "name": "python3",
      "display_name": "Python 3"
    },
    "language_info": {
      "name": "python"
    }
  },
  "cells": [
    {
      "cell_type": "code",
      "metadata": {
        "id": "UxOW9dIWnr95"
      },
      "source": [
        ""
      ],
      "execution_count": null,
      "outputs": []
    },
    {
      "cell_type": "markdown",
      "metadata": {
        "id": "1jMZYGCrAQzA"
      },
      "source": [
        "##Identificadores pid, ppid"
      ]
    },
    {
      "cell_type": "code",
      "metadata": {
        "colab": {
          "base_uri": "https://localhost:8080/"
        },
        "id": "_yqMEAqvAW4r",
        "outputId": "feb0b886-348d-4a02-e2df-64a65db3abdd"
      },
      "source": [
        "import os\n",
        "print('module name:', __name__)\n",
        "print('parent process:' , os.getppid()) #Identificación del proceso padre\n",
        "print('process id: ', os.getpid()) #Del proceso hijo\n"
      ],
      "execution_count": null,
      "outputs": [
        {
          "output_type": "stream",
          "name": "stdout",
          "text": [
            "module name: __main__\n",
            "parent process: 52\n",
            "process id:  64\n"
          ]
        }
      ]
    },
    {
      "cell_type": "code",
      "metadata": {
        "colab": {
          "base_uri": "https://localhost:8080/"
        },
        "id": "NsI6WL3eBG5m",
        "outputId": "c9f0707d-3cd1-4af7-d645-7ed92b13a67a"
      },
      "source": [
        "from multiprocess import Process\n",
        "import os\n",
        "\n",
        "def info(titulo):\n",
        "  print(titulo)\n",
        "  print('module name:', __name__)\n",
        "  print('parent process:' , os.getppid)\n",
        "  print('process id: ', os.getpid())\n",
        "\n",
        "def f(nombre): \n",
        "  info('Primera linea')\n",
        "  print('Hello', nombre)\n",
        "  print('-----------')\n",
        "\n",
        "\n",
        "info('Primera linea')\n",
        "p= Process(target=f, args=('Oscar',))\n",
        "p.start()\n",
        "p.join()\n",
        "\n",
        "#Cada proceso tiene su propio identificador \n",
        "#Aquí se tiene un sub sub proceso\n",
        "\n"
      ],
      "execution_count": null,
      "outputs": [
        {
          "output_type": "stream",
          "name": "stdout",
          "text": [
            "Primera linea\n",
            "module name: __main__\n",
            "parent process: <built-in function getppid>\n",
            "process id:  64\n",
            "Primera linea\n",
            "module name: __main__\n",
            "parent process: <built-in function getppid>\n",
            "process id:  595\n",
            "Hello Oscar\n",
            "-----------\n"
          ]
        }
      ]
    }
  ]
}