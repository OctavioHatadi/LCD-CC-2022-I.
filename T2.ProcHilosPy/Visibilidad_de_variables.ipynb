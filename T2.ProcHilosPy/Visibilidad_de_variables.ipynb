{
  "nbformat": 4,
  "nbformat_minor": 0,
  "metadata": {
    "colab": {
      "name": "Visibilidad de variables.ipynb",
      "provenance": [],
      "collapsed_sections": []
    },
    "kernelspec": {
      "name": "python3",
      "display_name": "Python 3"
    },
    "language_info": {
      "name": "python"
    }
  },
  "cells": [
    {
      "cell_type": "markdown",
      "metadata": {
        "id": "XW-R36LXCxJO"
      },
      "source": [
        "\n",
        "\n",
        "``` Esto tiene formato de código\n",
        "```\n",
        "\n",
        "##Visibilidad de variables"
      ]
    },
    {
      "cell_type": "code",
      "metadata": {
        "colab": {
          "base_uri": "https://localhost:8080/"
        },
        "id": "92jWZ9_9CwbR",
        "outputId": "bf387dd4-d5fe-407a-a36a-3b12c35f073e"
      },
      "source": [
        "#Se crea una copia exacta de todas las variables en todos loxs procesor y\n",
        "#Se le asigna el mismo espacio en memoria \n",
        "\n",
        "nums_res = []\n",
        "\n",
        "#Proceso hijo\n",
        "def calc_cuad(numeros):\n",
        "    global nums_res\n",
        "    for n in numeros:\n",
        "        print('cuadrado:', n * n )\n",
        "        nums_res.append(n * n)\n",
        "\n",
        "    #print(\"Resultado del proceso:\", nums_res)\n",
        "\n",
        "\n",
        "nums = range(10)\n",
        "\n",
        "t = time.time()\n",
        "p1 = mp.Process(target=calc_cuad, args=(nums,))\n",
        "\n",
        "p1.start()\n",
        "p1.join()\n",
        "\n",
        "print(\"Tiempo de ejecución: \", time.time()-t)\n",
        "print(\"Resultado del proceso:\" ,nums_res)\n",
        "print(\"Finaliza ejecución\")\n",
        "\n",
        "#Se requiere un mecanismo de comunicación para ver las modificaciones entre \n",
        "#Procesos.\n"
      ],
      "execution_count": null,
      "outputs": [
        {
          "output_type": "stream",
          "name": "stdout",
          "text": [
            "cuadrado: 0\n",
            "cuadrado: 1\n",
            "cuadrado: 4\n",
            "cuadrado: 9\n",
            "cuadrado: 16\n",
            "cuadrado: 25\n",
            "cuadrado: 36\n",
            "cuadrado: 49\n",
            "cuadrado: 64\n",
            "cuadrado: 81\n",
            "Tiempo de ejecución:  0.06432056427001953\n",
            "Resultado del proceso: []\n",
            "Finaliza ejecución\n"
          ]
        }
      ]
    },
    {
      "cell_type": "code",
      "metadata": {
        "id": "AQOmN2usajTk"
      },
      "source": [
        "import multiprocessing "
      ],
      "execution_count": null,
      "outputs": []
    },
    {
      "cell_type": "code",
      "metadata": {
        "colab": {
          "base_uri": "https://localhost:8080/"
        },
        "id": "gGkPizmgapN3",
        "outputId": "3c090956-ac71-4c14-a0d0-402462683d40"
      },
      "source": [
        "#Conocer el número de procesadores que se tiene en la máquina \n",
        "\n",
        "multiprocessing.cpu_count()\n",
        "\n"
      ],
      "execution_count": null,
      "outputs": [
        {
          "output_type": "execute_result",
          "data": {
            "text/plain": [
              "2"
            ]
          },
          "metadata": {},
          "execution_count": 18
        }
      ]
    },
    {
      "cell_type": "code",
      "metadata": {
        "colab": {
          "base_uri": "https://localhost:8080/"
        },
        "id": "L0p_9HhObLd0",
        "outputId": "1e9b4203-4c42-4f06-8b33-125dc3317129"
      },
      "source": [
        "#Acceder a un identificador del proceso \n",
        "#El identificador del proceso actual se accede por medio de 'current_process()'\n",
        "\n",
        "print(multiprocessing.current_process().pid)\n",
        "\n",
        "#Es el pid del proceso que está invocando al proceso maestro.\n",
        "#En genral da el proceso actual\n"
      ],
      "execution_count": null,
      "outputs": [
        {
          "output_type": "stream",
          "name": "stdout",
          "text": [
            "64\n"
          ]
        }
      ]
    },
    {
      "cell_type": "code",
      "metadata": {
        "colab": {
          "base_uri": "https://localhost:8080/"
        },
        "id": "8edO4sqKcMVc",
        "outputId": "26617d7d-2ebf-470f-e089-258b4dc7f53a"
      },
      "source": [
        "import time \n",
        "def TareaHijo():\n",
        "  print('Proceso hijo con PID: {}'.format(multiprocessing.current_process().pid))\n",
        "  time.sleep(3)\n",
        "  print('Fin del proceso hijo')\n",
        "\n",
        "def main ():\n",
        "  print('Proceso padre con PID: {}'.format(multiprocessing.current_process().pid))\n",
        "  miproceso= multiprocessing.Process(target=TareaHijo)\n",
        "  miproceso.start()\n",
        "  miproceso.join()\n",
        "  print('Fin del proceso padre')\n",
        "\n",
        "\n",
        "\n",
        "main()\n"
      ],
      "execution_count": null,
      "outputs": [
        {
          "output_type": "stream",
          "name": "stdout",
          "text": [
            "Proceso padre con PID: 64\n",
            "Proceso hijo con PID: 634\n",
            "Fin del proceso hijo\n",
            "Fin del proceso padre\n"
          ]
        }
      ]
    },
    {
      "cell_type": "markdown",
      "metadata": {
        "id": "2zMAwvTMduV7"
      },
      "source": [
        "Es posible asignar un **nombre** a un proceso que ha sido creado por medio del argumento **name**. Se asignan el nombre del proceso hijo."
      ]
    },
    {
      "cell_type": "code",
      "metadata": {
        "colab": {
          "base_uri": "https://localhost:8080/"
        },
        "id": "eSoIL2ZVdCCV",
        "outputId": "33af20f7-eb38-4cdc-e48b-04ec9f008298"
      },
      "source": [
        "def miproceso():\n",
        "  print('Proceso con nombre: {}'.format(multiprocessing.current_process().name))\n",
        "\n",
        "def main():\n",
        "  phijo = multiprocessing.Process(target=miproceso, name='Proceso_LCD')\n",
        "  phijo.start()\n",
        "  phijo.join()\n",
        "\n",
        "main()"
      ],
      "execution_count": null,
      "outputs": [
        {
          "output_type": "stream",
          "name": "stdout",
          "text": [
            "Proceso con nombre: Proceso_LCD\n"
          ]
        }
      ]
    },
    {
      "cell_type": "markdown",
      "metadata": {
        "id": "Ikl3xFugexGc"
      },
      "source": [
        "##Ejercio\n",
        "Crea tres proceso con nombre, cada proceso escribirá su nombre "
      ]
    },
    {
      "cell_type": "code",
      "metadata": {
        "colab": {
          "base_uri": "https://localhost:8080/"
        },
        "id": "I7vg1eZAewii",
        "outputId": "72c4c7cd-e624-42c3-cd68-72666caee309"
      },
      "source": [
        "from multiprocessing import Process, current_process\n",
        "import time\n",
        "\n",
        "def miproceso():\n",
        "  print('Proceso con nombre: {}'.format(multiprocessing.current_process().name))\n",
        "\n",
        "def main():\n",
        "  p1= multiprocessing.Process(target=miproceso, name='Proceso 1')\n",
        "  p2= multiprocessing.Process(target=miproceso, name='Proceso 2')\n",
        "  p3= multiprocessing.Process(target=miproceso, name='Proceso 3')\n",
        "\n",
        "  p1.start()\n",
        "  p2.start()\n",
        "  p3.start()\n",
        "  p1.join()\n",
        "  p2.join()\n",
        "  p3.join()\n",
        "\n",
        "main()"
      ],
      "execution_count": null,
      "outputs": [
        {
          "output_type": "stream",
          "name": "stdout",
          "text": [
            "Proceso con nombre: Proceso 1\n",
            "Proceso con nombre: Proceso 2\n",
            "Proceso con nombre: Proceso 3\n"
          ]
        }
      ]
    },
    {
      "cell_type": "markdown",
      "metadata": {
        "id": "LvYHFD4DiheM"
      },
      "source": [
        "Un proceso que está en ejecución puede ser cancelado o interrumpido por medio de la función **terminate()**"
      ]
    }
  ]
}